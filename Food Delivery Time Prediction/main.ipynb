{
 "cells": [
  {
   "cell_type": "code",
   "execution_count": 120,
   "id": "5f6f8140",
   "metadata": {},
   "outputs": [],
   "source": [
    "#importing libraries\n",
    "import numpy as np\n",
    "import pandas as pd\n",
    "from sklearn.model_selection import train_test_split\n",
    "from sklearn.linear_model import LinearRegression\n",
    "import matplotlib.pyplot as plt"
   ]
  },
  {
   "cell_type": "code",
   "execution_count": 147,
   "id": "dc055620",
   "metadata": {},
   "outputs": [
    {
     "data": {
      "text/html": [
       "<div>\n",
       "<style scoped>\n",
       "    .dataframe tbody tr th:only-of-type {\n",
       "        vertical-align: middle;\n",
       "    }\n",
       "\n",
       "    .dataframe tbody tr th {\n",
       "        vertical-align: top;\n",
       "    }\n",
       "\n",
       "    .dataframe thead th {\n",
       "        text-align: right;\n",
       "    }\n",
       "</style>\n",
       "<table border=\"1\" class=\"dataframe\">\n",
       "  <thead>\n",
       "    <tr style=\"text-align: right;\">\n",
       "      <th></th>\n",
       "      <th>Order_ID</th>\n",
       "      <th>Customer_Location</th>\n",
       "      <th>Restaurant_Location</th>\n",
       "      <th>Distance</th>\n",
       "      <th>Weather_Conditions</th>\n",
       "      <th>Traffic_Conditions</th>\n",
       "      <th>Delivery_Person_Experience</th>\n",
       "      <th>Order_Priority</th>\n",
       "      <th>Order_Time</th>\n",
       "      <th>Vehicle_Type</th>\n",
       "      <th>Restaurant_Rating</th>\n",
       "      <th>Customer_Rating</th>\n",
       "      <th>Delivery_Time</th>\n",
       "      <th>Order_Cost</th>\n",
       "      <th>Tip_Amount</th>\n",
       "    </tr>\n",
       "  </thead>\n",
       "  <tbody>\n",
       "    <tr>\n",
       "      <th>0</th>\n",
       "      <td>ORD0001</td>\n",
       "      <td>(17.030479, 79.743077)</td>\n",
       "      <td>(12.358515, 85.100083)</td>\n",
       "      <td>1.57</td>\n",
       "      <td>Rainy</td>\n",
       "      <td>Medium</td>\n",
       "      <td>4</td>\n",
       "      <td>Medium</td>\n",
       "      <td>Afternoon</td>\n",
       "      <td>Car</td>\n",
       "      <td>4.1</td>\n",
       "      <td>3.0</td>\n",
       "      <td>26.22</td>\n",
       "      <td>1321.10</td>\n",
       "      <td>81.54</td>\n",
       "    </tr>\n",
       "    <tr>\n",
       "      <th>1</th>\n",
       "      <td>ORD0002</td>\n",
       "      <td>(15.398319, 86.639122)</td>\n",
       "      <td>(14.174874, 77.025606)</td>\n",
       "      <td>21.32</td>\n",
       "      <td>Cloudy</td>\n",
       "      <td>Medium</td>\n",
       "      <td>8</td>\n",
       "      <td>Low</td>\n",
       "      <td>Night</td>\n",
       "      <td>Car</td>\n",
       "      <td>4.5</td>\n",
       "      <td>4.2</td>\n",
       "      <td>62.61</td>\n",
       "      <td>152.21</td>\n",
       "      <td>29.02</td>\n",
       "    </tr>\n",
       "    <tr>\n",
       "      <th>2</th>\n",
       "      <td>ORD0003</td>\n",
       "      <td>(15.687342, 83.888808)</td>\n",
       "      <td>(19.594748, 82.048482)</td>\n",
       "      <td>6.95</td>\n",
       "      <td>Snowy</td>\n",
       "      <td>Medium</td>\n",
       "      <td>9</td>\n",
       "      <td>High</td>\n",
       "      <td>Night</td>\n",
       "      <td>Bike</td>\n",
       "      <td>3.3</td>\n",
       "      <td>3.4</td>\n",
       "      <td>48.43</td>\n",
       "      <td>1644.38</td>\n",
       "      <td>64.17</td>\n",
       "    </tr>\n",
       "    <tr>\n",
       "      <th>3</th>\n",
       "      <td>ORD0004</td>\n",
       "      <td>(20.415599, 78.046984)</td>\n",
       "      <td>(16.915906, 78.278698)</td>\n",
       "      <td>13.79</td>\n",
       "      <td>Cloudy</td>\n",
       "      <td>Low</td>\n",
       "      <td>2</td>\n",
       "      <td>Medium</td>\n",
       "      <td>Evening</td>\n",
       "      <td>Bike</td>\n",
       "      <td>3.2</td>\n",
       "      <td>3.7</td>\n",
       "      <td>111.63</td>\n",
       "      <td>541.25</td>\n",
       "      <td>79.23</td>\n",
       "    </tr>\n",
       "    <tr>\n",
       "      <th>4</th>\n",
       "      <td>ORD0005</td>\n",
       "      <td>(14.786904, 78.706532)</td>\n",
       "      <td>(15.206038, 86.203182)</td>\n",
       "      <td>6.72</td>\n",
       "      <td>Rainy</td>\n",
       "      <td>High</td>\n",
       "      <td>6</td>\n",
       "      <td>Low</td>\n",
       "      <td>Night</td>\n",
       "      <td>Bike</td>\n",
       "      <td>3.5</td>\n",
       "      <td>2.8</td>\n",
       "      <td>32.38</td>\n",
       "      <td>619.81</td>\n",
       "      <td>2.34</td>\n",
       "    </tr>\n",
       "  </tbody>\n",
       "</table>\n",
       "</div>"
      ],
      "text/plain": [
       "  Order_ID       Customer_Location     Restaurant_Location  Distance  \\\n",
       "0  ORD0001  (17.030479, 79.743077)  (12.358515, 85.100083)      1.57   \n",
       "1  ORD0002  (15.398319, 86.639122)  (14.174874, 77.025606)     21.32   \n",
       "2  ORD0003  (15.687342, 83.888808)  (19.594748, 82.048482)      6.95   \n",
       "3  ORD0004  (20.415599, 78.046984)  (16.915906, 78.278698)     13.79   \n",
       "4  ORD0005  (14.786904, 78.706532)  (15.206038, 86.203182)      6.72   \n",
       "\n",
       "  Weather_Conditions Traffic_Conditions  Delivery_Person_Experience  \\\n",
       "0              Rainy             Medium                           4   \n",
       "1             Cloudy             Medium                           8   \n",
       "2              Snowy             Medium                           9   \n",
       "3             Cloudy                Low                           2   \n",
       "4              Rainy               High                           6   \n",
       "\n",
       "  Order_Priority Order_Time Vehicle_Type  Restaurant_Rating  Customer_Rating  \\\n",
       "0         Medium  Afternoon          Car                4.1              3.0   \n",
       "1            Low      Night          Car                4.5              4.2   \n",
       "2           High      Night         Bike                3.3              3.4   \n",
       "3         Medium    Evening         Bike                3.2              3.7   \n",
       "4            Low      Night         Bike                3.5              2.8   \n",
       "\n",
       "   Delivery_Time  Order_Cost  Tip_Amount  \n",
       "0          26.22     1321.10       81.54  \n",
       "1          62.61      152.21       29.02  \n",
       "2          48.43     1644.38       64.17  \n",
       "3         111.63      541.25       79.23  \n",
       "4          32.38      619.81        2.34  "
      ]
     },
     "execution_count": 147,
     "metadata": {},
     "output_type": "execute_result"
    }
   ],
   "source": [
    "ds = pd.read_csv('Food_Delivery_Time_Prediction.csv')\n",
    "ds.head() "
   ]
  },
  {
   "cell_type": "code",
   "execution_count": 148,
   "id": "f55207c4",
   "metadata": {},
   "outputs": [
    {
     "data": {
      "text/plain": [
       "(200, 15)"
      ]
     },
     "execution_count": 148,
     "metadata": {},
     "output_type": "execute_result"
    }
   ],
   "source": [
    "ds.shape"
   ]
  },
  {
   "cell_type": "code",
   "execution_count": 149,
   "id": "949a9103",
   "metadata": {},
   "outputs": [
    {
     "data": {
      "text/plain": [
       "(200, 15)"
      ]
     },
     "execution_count": 149,
     "metadata": {},
     "output_type": "execute_result"
    }
   ],
   "source": [
    "ds = ds.dropna()\n",
    "ds.shape\n",
    "\n",
    "#After dropind emplty values the shape remains same this mean there is no empty value"
   ]
  },
  {
   "cell_type": "code",
   "execution_count": 150,
   "id": "975f35e9",
   "metadata": {},
   "outputs": [
    {
     "data": {
      "text/plain": [
       "Distance                     -0.075143\n",
       "Delivery_Person_Experience   -0.019098\n",
       "Restaurant_Rating            -0.091855\n",
       "Customer_Rating              -0.021952\n",
       "Delivery_Time                 1.000000\n",
       "Order_Cost                   -0.009307\n",
       "Tip_Amount                   -0.029154\n",
       "Name: Delivery_Time, dtype: float64"
      ]
     },
     "execution_count": 150,
     "metadata": {},
     "output_type": "execute_result"
    }
   ],
   "source": [
    "#Checkin correlation of values to get the best feature\n",
    "ds.corr(numeric_only=True)['Delivery_Time']"
   ]
  },
  {
   "cell_type": "code",
   "execution_count": 153,
   "id": "2a21bba5",
   "metadata": {},
   "outputs": [
    {
     "data": {
      "text/html": [
       "<div>\n",
       "<style scoped>\n",
       "    .dataframe tbody tr th:only-of-type {\n",
       "        vertical-align: middle;\n",
       "    }\n",
       "\n",
       "    .dataframe tbody tr th {\n",
       "        vertical-align: top;\n",
       "    }\n",
       "\n",
       "    .dataframe thead th {\n",
       "        text-align: right;\n",
       "    }\n",
       "</style>\n",
       "<table border=\"1\" class=\"dataframe\">\n",
       "  <thead>\n",
       "    <tr style=\"text-align: right;\">\n",
       "      <th></th>\n",
       "      <th>Order_ID</th>\n",
       "      <th>Customer_Location</th>\n",
       "      <th>Restaurant_Location</th>\n",
       "      <th>Distance</th>\n",
       "      <th>Weather_Conditions</th>\n",
       "      <th>Traffic_Conditions</th>\n",
       "      <th>Delivery_Person_Experience</th>\n",
       "      <th>Order_Priority</th>\n",
       "      <th>Order_Time</th>\n",
       "      <th>Vehicle_Type</th>\n",
       "      <th>Restaurant_Rating</th>\n",
       "      <th>Customer_Rating</th>\n",
       "      <th>Delivery_Time</th>\n",
       "      <th>Order_Cost</th>\n",
       "      <th>Tip_Amount</th>\n",
       "    </tr>\n",
       "  </thead>\n",
       "  <tbody>\n",
       "    <tr>\n",
       "      <th>0</th>\n",
       "      <td>ORD0001</td>\n",
       "      <td>(17.030479, 79.743077)</td>\n",
       "      <td>(12.358515, 85.100083)</td>\n",
       "      <td>1.57</td>\n",
       "      <td>1</td>\n",
       "      <td>2</td>\n",
       "      <td>4</td>\n",
       "      <td>2</td>\n",
       "      <td>Afternoon</td>\n",
       "      <td>2</td>\n",
       "      <td>4.1</td>\n",
       "      <td>3.0</td>\n",
       "      <td>26.22</td>\n",
       "      <td>1321.10</td>\n",
       "      <td>81.54</td>\n",
       "    </tr>\n",
       "    <tr>\n",
       "      <th>1</th>\n",
       "      <td>ORD0002</td>\n",
       "      <td>(15.398319, 86.639122)</td>\n",
       "      <td>(14.174874, 77.025606)</td>\n",
       "      <td>21.32</td>\n",
       "      <td>0</td>\n",
       "      <td>2</td>\n",
       "      <td>8</td>\n",
       "      <td>1</td>\n",
       "      <td>Night</td>\n",
       "      <td>2</td>\n",
       "      <td>4.5</td>\n",
       "      <td>4.2</td>\n",
       "      <td>62.61</td>\n",
       "      <td>152.21</td>\n",
       "      <td>29.02</td>\n",
       "    </tr>\n",
       "    <tr>\n",
       "      <th>2</th>\n",
       "      <td>ORD0003</td>\n",
       "      <td>(15.687342, 83.888808)</td>\n",
       "      <td>(19.594748, 82.048482)</td>\n",
       "      <td>6.95</td>\n",
       "      <td>2</td>\n",
       "      <td>2</td>\n",
       "      <td>9</td>\n",
       "      <td>0</td>\n",
       "      <td>Night</td>\n",
       "      <td>1</td>\n",
       "      <td>3.3</td>\n",
       "      <td>3.4</td>\n",
       "      <td>48.43</td>\n",
       "      <td>1644.38</td>\n",
       "      <td>64.17</td>\n",
       "    </tr>\n",
       "    <tr>\n",
       "      <th>3</th>\n",
       "      <td>ORD0004</td>\n",
       "      <td>(20.415599, 78.046984)</td>\n",
       "      <td>(16.915906, 78.278698)</td>\n",
       "      <td>13.79</td>\n",
       "      <td>0</td>\n",
       "      <td>1</td>\n",
       "      <td>2</td>\n",
       "      <td>2</td>\n",
       "      <td>Evening</td>\n",
       "      <td>1</td>\n",
       "      <td>3.2</td>\n",
       "      <td>3.7</td>\n",
       "      <td>111.63</td>\n",
       "      <td>541.25</td>\n",
       "      <td>79.23</td>\n",
       "    </tr>\n",
       "    <tr>\n",
       "      <th>4</th>\n",
       "      <td>ORD0005</td>\n",
       "      <td>(14.786904, 78.706532)</td>\n",
       "      <td>(15.206038, 86.203182)</td>\n",
       "      <td>6.72</td>\n",
       "      <td>1</td>\n",
       "      <td>0</td>\n",
       "      <td>6</td>\n",
       "      <td>1</td>\n",
       "      <td>Night</td>\n",
       "      <td>1</td>\n",
       "      <td>3.5</td>\n",
       "      <td>2.8</td>\n",
       "      <td>32.38</td>\n",
       "      <td>619.81</td>\n",
       "      <td>2.34</td>\n",
       "    </tr>\n",
       "  </tbody>\n",
       "</table>\n",
       "</div>"
      ],
      "text/plain": [
       "  Order_ID       Customer_Location     Restaurant_Location  Distance  \\\n",
       "0  ORD0001  (17.030479, 79.743077)  (12.358515, 85.100083)      1.57   \n",
       "1  ORD0002  (15.398319, 86.639122)  (14.174874, 77.025606)     21.32   \n",
       "2  ORD0003  (15.687342, 83.888808)  (19.594748, 82.048482)      6.95   \n",
       "3  ORD0004  (20.415599, 78.046984)  (16.915906, 78.278698)     13.79   \n",
       "4  ORD0005  (14.786904, 78.706532)  (15.206038, 86.203182)      6.72   \n",
       "\n",
       "   Weather_Conditions  Traffic_Conditions  Delivery_Person_Experience  \\\n",
       "0                   1                   2                           4   \n",
       "1                   0                   2                           8   \n",
       "2                   2                   2                           9   \n",
       "3                   0                   1                           2   \n",
       "4                   1                   0                           6   \n",
       "\n",
       "   Order_Priority Order_Time  Vehicle_Type  Restaurant_Rating  \\\n",
       "0               2  Afternoon             2                4.1   \n",
       "1               1      Night             2                4.5   \n",
       "2               0      Night             1                3.3   \n",
       "3               2    Evening             1                3.2   \n",
       "4               1      Night             1                3.5   \n",
       "\n",
       "   Customer_Rating  Delivery_Time  Order_Cost  Tip_Amount  \n",
       "0              3.0          26.22     1321.10       81.54  \n",
       "1              4.2          62.61      152.21       29.02  \n",
       "2              3.4          48.43     1644.38       64.17  \n",
       "3              3.7         111.63      541.25       79.23  \n",
       "4              2.8          32.38      619.81        2.34  "
      ]
     },
     "execution_count": 153,
     "metadata": {},
     "output_type": "execute_result"
    }
   ],
   "source": [
    "#lets first encode the data\n",
    "from sklearn.preprocessing import LabelEncoder\n",
    "le_T = LabelEncoder()\n",
    "ds['Traffic_Conditions'] = le.fit_transform(ds['Traffic_Conditions'])\n",
    "le_W = LabelEncoder()\n",
    "ds['Weather_Conditions']=le_W.fit_transform(ds['Weather_Conditions'])\n",
    "le_V=LabelEncoder()\n",
    "ds['Vehicle_Type'] = le_V.fit_transform(ds[\"Vehicle_Type\"])\n",
    "le_O=LabelEncoder()\n",
    "ds['Order_Priority'] = le_O.fit_transform(ds[\"Order_Priority\"])\n",
    "ds.head()\n"
   ]
  },
  {
   "cell_type": "code",
   "execution_count": null,
   "id": "058f949f",
   "metadata": {},
   "outputs": [],
   "source": []
  },
  {
   "cell_type": "code",
   "execution_count": 154,
   "id": "4d1b1cb7",
   "metadata": {},
   "outputs": [
    {
     "data": {
      "text/plain": [
       "Distance                     -0.075143\n",
       "Weather_Conditions           -0.021580\n",
       "Traffic_Conditions            0.040023\n",
       "Delivery_Person_Experience   -0.019098\n",
       "Order_Priority               -0.013405\n",
       "Vehicle_Type                 -0.055576\n",
       "Restaurant_Rating            -0.091855\n",
       "Customer_Rating              -0.021952\n",
       "Delivery_Time                 1.000000\n",
       "Order_Cost                   -0.009307\n",
       "Tip_Amount                   -0.029154\n",
       "Name: Delivery_Time, dtype: float64"
      ]
     },
     "execution_count": 154,
     "metadata": {},
     "output_type": "execute_result"
    }
   ],
   "source": [
    "#Correlation to take the best feature variable\n",
    "ds.corr(numeric_only=True)['Delivery_Time']"
   ]
  },
  {
   "cell_type": "code",
   "execution_count": 155,
   "id": "d88b26ce",
   "metadata": {},
   "outputs": [
    {
     "data": {
      "text/plain": [
       "Order_Time\n",
       "Afternoon    59\n",
       "Evening      57\n",
       "Night        45\n",
       "Morning      39\n",
       "Name: count, dtype: int64"
      ]
     },
     "execution_count": 155,
     "metadata": {},
     "output_type": "execute_result"
    }
   ],
   "source": [
    "ds['Order_Time'].value_counts()\n",
    "#By this value count we can see that Afternoon, and Evening are rush hours"
   ]
  },
  {
   "cell_type": "code",
   "execution_count": 156,
   "id": "af3e7245",
   "metadata": {},
   "outputs": [],
   "source": [
    "#Making rush hours and not rushhour columns\n",
    "ds['RushHour'] = np.where(ds['Order_Time'].isin(['Afternoon', 'Evening']), 1, 0)\n",
    "ds['Not Rush_Hour'] = np.where(ds['Order_Time'].isin(['Morning', 'Night']), 1, 0)"
   ]
  },
  {
   "cell_type": "code",
   "execution_count": null,
   "id": "3d1a26d7",
   "metadata": {},
   "outputs": [
    {
     "data": {
      "image/png": "[encoded data removed]",
      "text/plain": [
       "<Figure size 640x480 with 1 Axes>"
      ]
     },
     "metadata": {},
     "output_type": "display_data"
    },
    {
     "data": {
      "image/png": "[encoded data removed]",
      "text/plain": [
       "<Figure size 640x480 with 1 Axes>"
      ]
     },
     "metadata": {},
     "output_type": "display_data"
    },
    {
     "name": "stdout",
     "output_type": "stream",
     "text": [
      "Regression Report: \n",
      "MSE:  685.5082033484459 \n",
      "r2:  0.00448963136163516 \n",
      "mae:  20.736340375498187\n"
     ]
    }
   ],
   "source": [
    "#Now Normalizig the data and creating Linear Regression Model\n",
    "from sklearn.preprocessing import StandardScaler\n",
    "#selecting Feature best for prediction\n",
    "X = ds[['Distance', 'Order_Priority', 'Traffic_Conditions']].values\n",
    "\n",
    "#cheking for outliners\n",
    "plt.boxplot(ds['Distance'])\n",
    "plt.show()\n",
    "plt.boxplot(ds['Delivery_Time'])\n",
    "plt.show()\n",
    "\n",
    "Y=np.array(ds['Delivery_Time'])\n",
    "\n",
    "ss = StandardScaler()\n",
    "X_Scaled = ss.fit_transform(X)\n",
    "\n",
    "#splitting data\n",
    "x_train,x_test, y_train,y_test = train_test_split(X_Scaled,Y,test_size=0.2)\n",
    "\n",
    "\n",
    "#Model Creation\n",
    "Lr = LinearRegression()\n",
    "Lr.fit(x_train,y_train)\n",
    "\n",
    "#prediction\n",
    "y_predict = Lr.predict(x_test)\n",
    "\n",
    "#Calculating matric\n",
    "from sklearn.metrics import mean_squared_error,r2_score,mean_absolute_error\n",
    "mse = mean_squared_error(y_test,y_predict)\n",
    "r2 = r2_score(y_test,y_predict)\n",
    "mae = mean_absolute_error(y_test,y_predict)\n",
    "\n",
    "print(\"Regression Report: \\nMSE: \",mse,\"\\nr2: \",r2,\"\\nmae: \",mae)\n",
    "\n"
   ]
  },
  {
   "cell_type": "code",
   "execution_count": 230,
   "id": "761225d3",
   "metadata": {},
   "outputs": [
    {
     "name": "stdout",
     "output_type": "stream",
     "text": [
      "Delivery_Status\n",
      "Delayed    104\n",
      "Fast        96\n",
      "Name: count, dtype: int64\n"
     ]
    }
   ],
   "source": [
    "#making new column for delivery status\n",
    "threshold = ds['Delivery_Time'].mean()\n",
    "\n",
    "\n",
    "# Create binary target column\n",
    "ds['Delivery_Status'] = ds['Delivery_Time'].apply(lambda x: 'Delayed' if x > threshold else 'Fast')\n",
    "\n",
    "# Check it\n",
    "print(ds['Delivery_Status'].value_counts())"
   ]
  },
  {
   "cell_type": "code",
   "execution_count": 240,
   "id": "ed988919",
   "metadata": {},
   "outputs": [
    {
     "name": "stdout",
     "output_type": "stream",
     "text": [
      "Accuracy: 0.55\n",
      "              precision    recall  f1-score   support\n",
      "\n",
      "     Delayed       0.52      0.79      0.62        19\n",
      "        Fast       0.64      0.33      0.44        21\n",
      "\n",
      "    accuracy                           0.55        40\n",
      "   macro avg       0.58      0.56      0.53        40\n",
      "weighted avg       0.58      0.55      0.53        40\n",
      "\n"
     ]
    }
   ],
   "source": [
    "#Logistic regression for delivery status\n",
    "x=ds[['Traffic_Conditions','Weather_Conditions','Vehicle_Type','Delivery_Person_Experience']]\n",
    "le=LabelEncoder()\n",
    "y = ds['Delivery_Status']\n",
    "\n",
    "x_scaled=ss.fit_transform(x)\n",
    "#Data splitting\n",
    "x_train,x_test, y_train,Y_test = train_test_split(X_Scaled,y,test_size=0.2)\n",
    "\n",
    "#Model Making\n",
    "from sklearn.linear_model import LogisticRegression\n",
    "\n",
    "lr =  LogisticRegression(max_iter=1000)\n",
    "lr.fit(x_train,y_train)\n",
    "\n",
    "y_pred2 = lr.predict(x_test)\n",
    "\n",
    "from sklearn.metrics import accuracy_score,classification_report\n",
    "print(\"Accuracy:\", accuracy_score(Y_test, y_pred2))\n",
    "print(classification_report(Y_test, y_pred2))\n",
    "\n",
    "\n"
   ]
  },
  {
   "cell_type": "code",
   "execution_count": 241,
   "id": "65a1da42",
   "metadata": {},
   "outputs": [
    {
     "name": "stdout",
     "output_type": "stream",
     "text": [
      "[[15  4]\n",
      " [14  7]]\n"
     ]
    }
   ],
   "source": [
    "#Makig a confusion matrix of Logistic regression\n",
    "\n",
    "from sklearn.metrics import confusion_matrix\n",
    "\n",
    "#for linear regression\n",
    "cm = confusion_matrix(Y_test,y_pred2)\n",
    "print(cm)\n",
    "\n"
   ]
  },
  {
   "cell_type": "code",
   "execution_count": null,
   "id": "22daa864",
   "metadata": {},
   "outputs": [],
   "source": []
  },
  {
   "cell_type": "code",
   "execution_count": null,
   "id": "32729387",
   "metadata": {},
   "outputs": [],
   "source": []
  }
 ],
 "metadata": {
  "kernelspec": {
   "display_name": "Python 3",
   "language": "python",
   "name": "python3"
  },
  "language_info": {
   "codemirror_mode": {
    "name": "ipython",
    "version": 3
   },
   "file_extension": ".py",
   "mimetype": "text/x-python",
   "name": "python",
   "nbconvert_exporter": "python",
   "pygments_lexer": "ipython3",
   "version": "3.9.0"
  }
 },
 "nbformat": 4,
 "nbformat_minor": 5
}
